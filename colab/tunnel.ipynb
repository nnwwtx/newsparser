{
  "cells": [
    {
      "cell_type": "markdown",
      "metadata": {
        "id": "plW90O64dgn_"
      },
      "source": [
        "##**requirements.txt**"
      ]
    },
    {
      "cell_type": "code",
      "execution_count": 1,
      "metadata": {
        "colab": {
          "base_uri": "https://localhost:8080/"
        },
        "id": "_xDD5MRqW5DG",
        "outputId": "c2ddb131-38ef-450c-8759-acf969dabad4"
      },
      "outputs": [
        {
          "name": "stdout",
          "output_type": "stream",
          "text": [
            "Collecting altair==5.3.0 (from -r requirements.txt (line 1))\n",
            "  Using cached altair-5.3.0-py3-none-any.whl (857 kB)\n",
            "Requirement already satisfied: attrs==23.2.0 in /usr/local/lib/python3.10/dist-packages (from -r requirements.txt (line 2)) (23.2.0)\n",
            "Requirement already satisfied: beautifulsoup4==4.12.3 in /usr/local/lib/python3.10/dist-packages (from -r requirements.txt (line 3)) (4.12.3)\n",
            "Collecting blinker==1.8.1 (from -r requirements.txt (line 4))\n",
            "  Using cached blinker-1.8.1-py3-none-any.whl (9.5 kB)\n",
            "Requirement already satisfied: cachetools==5.3.3 in /usr/local/lib/python3.10/dist-packages (from -r requirements.txt (line 5)) (5.3.3)\n",
            "Requirement already satisfied: certifi==2024.2.2 in /usr/local/lib/python3.10/dist-packages (from -r requirements.txt (line 6)) (2024.2.2)\n",
            "Requirement already satisfied: chardet==5.2.0 in /usr/local/lib/python3.10/dist-packages (from -r requirements.txt (line 7)) (5.2.0)\n",
            "Requirement already satisfied: charset-normalizer==3.3.2 in /usr/local/lib/python3.10/dist-packages (from -r requirements.txt (line 8)) (3.3.2)\n",
            "Requirement already satisfied: click==8.1.7 in /usr/local/lib/python3.10/dist-packages (from -r requirements.txt (line 9)) (8.1.7)\n",
            "Requirement already satisfied: colorama==0.4.6 in /usr/local/lib/python3.10/dist-packages (from -r requirements.txt (line 10)) (0.4.6)\n",
            "Requirement already satisfied: cssselect==1.2.0 in /usr/local/lib/python3.10/dist-packages (from -r requirements.txt (line 11)) (1.2.0)\n",
            "Requirement already satisfied: feedfinder2==0.0.4 in /usr/local/lib/python3.10/dist-packages (from -r requirements.txt (line 12)) (0.0.4)\n",
            "Requirement already satisfied: feedparser==6.0.11 in /usr/local/lib/python3.10/dist-packages (from -r requirements.txt (line 13)) (6.0.11)\n",
            "Requirement already satisfied: filelock==3.14.0 in /usr/local/lib/python3.10/dist-packages (from -r requirements.txt (line 14)) (3.14.0)\n",
            "Requirement already satisfied: gitdb==4.0.11 in /usr/local/lib/python3.10/dist-packages (from -r requirements.txt (line 15)) (4.0.11)\n",
            "Requirement already satisfied: GitPython==3.1.43 in /usr/local/lib/python3.10/dist-packages (from -r requirements.txt (line 16)) (3.1.43)\n",
            "Requirement already satisfied: idna==3.7 in /usr/local/lib/python3.10/dist-packages (from -r requirements.txt (line 17)) (3.7)\n",
            "Requirement already satisfied: jieba3k==0.35.1 in /usr/local/lib/python3.10/dist-packages (from -r requirements.txt (line 18)) (0.35.1)\n",
            "Requirement already satisfied: Jinja2==3.1.4 in /usr/local/lib/python3.10/dist-packages (from -r requirements.txt (line 19)) (3.1.4)\n",
            "Requirement already satisfied: joblib==1.4.2 in /usr/local/lib/python3.10/dist-packages (from -r requirements.txt (line 20)) (1.4.2)\n",
            "Collecting jsonschema==4.22.0 (from -r requirements.txt (line 21))\n",
            "  Using cached jsonschema-4.22.0-py3-none-any.whl (88 kB)\n",
            "Requirement already satisfied: jsonschema-specifications==2023.12.1 in /usr/local/lib/python3.10/dist-packages (from -r requirements.txt (line 22)) (2023.12.1)\n",
            "Requirement already satisfied: kaleido==0.2.1 in /usr/local/lib/python3.10/dist-packages (from -r requirements.txt (line 23)) (0.2.1)\n",
            "Requirement already satisfied: lxml==5.2.1 in /usr/local/lib/python3.10/dist-packages (from -r requirements.txt (line 24)) (5.2.1)\n",
            "Requirement already satisfied: lxml_html_clean==0.1.1 in /usr/local/lib/python3.10/dist-packages (from -r requirements.txt (line 25)) (0.1.1)\n",
            "Requirement already satisfied: markdown-it-py==3.0.0 in /usr/local/lib/python3.10/dist-packages (from -r requirements.txt (line 26)) (3.0.0)\n",
            "Requirement already satisfied: MarkupSafe==2.1.5 in /usr/local/lib/python3.10/dist-packages (from -r requirements.txt (line 27)) (2.1.5)\n",
            "Requirement already satisfied: mdurl==0.1.2 in /usr/local/lib/python3.10/dist-packages (from -r requirements.txt (line 28)) (0.1.2)\n",
            "Requirement already satisfied: newspaper3k==0.2.8 in /usr/local/lib/python3.10/dist-packages (from -r requirements.txt (line 29)) (0.2.8)\n",
            "Requirement already satisfied: nltk==3.8.1 in /usr/local/lib/python3.10/dist-packages (from -r requirements.txt (line 30)) (3.8.1)\n",
            "Requirement already satisfied: numpy==1.26.4 in /usr/local/lib/python3.10/dist-packages (from -r requirements.txt (line 31)) (1.26.4)\n",
            "Requirement already satisfied: packaging==24.0 in /usr/local/lib/python3.10/dist-packages (from -r requirements.txt (line 32)) (24.0)\n",
            "Collecting pandas==2.2.2 (from -r requirements.txt (line 33))\n",
            "  Using cached pandas-2.2.2-cp310-cp310-manylinux_2_17_x86_64.manylinux2014_x86_64.whl (13.0 MB)\n",
            "Requirement already satisfied: pillow==10.3.0 in /usr/local/lib/python3.10/dist-packages (from -r requirements.txt (line 34)) (10.3.0)\n",
            "Requirement already satisfied: plotly==5.22.0 in /usr/local/lib/python3.10/dist-packages (from -r requirements.txt (line 35)) (5.22.0)\n",
            "Requirement already satisfied: protobuf==4.25.3 in /usr/local/lib/python3.10/dist-packages (from -r requirements.txt (line 36)) (4.25.3)\n",
            "Collecting pyarrow==16.0.0 (from -r requirements.txt (line 37))\n",
            "  Using cached pyarrow-16.0.0-cp310-cp310-manylinux_2_28_x86_64.whl (40.8 MB)\n",
            "Requirement already satisfied: pydeck==0.9.0 in /usr/local/lib/python3.10/dist-packages (from -r requirements.txt (line 38)) (0.9.0)\n",
            "Requirement already satisfied: Pygments==2.18.0 in /usr/local/lib/python3.10/dist-packages (from -r requirements.txt (line 39)) (2.18.0)\n",
            "Requirement already satisfied: python-dateutil==2.9.0.post0 in /usr/local/lib/python3.10/dist-packages (from -r requirements.txt (line 40)) (2.9.0.post0)\n",
            "Requirement already satisfied: pytz==2024.1 in /usr/local/lib/python3.10/dist-packages (from -r requirements.txt (line 41)) (2024.1)\n",
            "Requirement already satisfied: PyYAML==6.0.1 in /usr/local/lib/python3.10/dist-packages (from -r requirements.txt (line 42)) (6.0.1)\n",
            "Requirement already satisfied: referencing==0.35.1 in /usr/local/lib/python3.10/dist-packages (from -r requirements.txt (line 43)) (0.35.1)\n",
            "Requirement already satisfied: regex==2024.4.28 in /usr/local/lib/python3.10/dist-packages (from -r requirements.txt (line 44)) (2024.4.28)\n",
            "Requirement already satisfied: reportlab==4.2.0 in /usr/local/lib/python3.10/dist-packages (from -r requirements.txt (line 45)) (4.2.0)\n",
            "Requirement already satisfied: requests==2.31.0 in /usr/local/lib/python3.10/dist-packages (from -r requirements.txt (line 46)) (2.31.0)\n",
            "Requirement already satisfied: requests-file==2.0.0 in /usr/local/lib/python3.10/dist-packages (from -r requirements.txt (line 47)) (2.0.0)\n",
            "Requirement already satisfied: rich==13.7.1 in /usr/local/lib/python3.10/dist-packages (from -r requirements.txt (line 48)) (13.7.1)\n",
            "Requirement already satisfied: rpds-py==0.18.0 in /usr/local/lib/python3.10/dist-packages (from -r requirements.txt (line 49)) (0.18.0)\n",
            "Collecting scikit-learn==1.4.2 (from -r requirements.txt (line 50))\n",
            "  Using cached scikit_learn-1.4.2-cp310-cp310-manylinux_2_17_x86_64.manylinux2014_x86_64.whl (12.1 MB)\n",
            "Collecting scipy==1.13.0 (from -r requirements.txt (line 51))\n",
            "  Using cached scipy-1.13.0-cp310-cp310-manylinux_2_17_x86_64.manylinux2014_x86_64.whl (38.6 MB)\n",
            "Requirement already satisfied: sgmllib3k==1.0.0 in /usr/local/lib/python3.10/dist-packages (from -r requirements.txt (line 52)) (1.0.0)\n",
            "Requirement already satisfied: six==1.16.0 in /usr/local/lib/python3.10/dist-packages (from -r requirements.txt (line 53)) (1.16.0)\n",
            "Requirement already satisfied: smmap==5.0.1 in /usr/local/lib/python3.10/dist-packages (from -r requirements.txt (line 54)) (5.0.1)\n",
            "Requirement already satisfied: soupsieve==2.5 in /usr/local/lib/python3.10/dist-packages (from -r requirements.txt (line 55)) (2.5)\n",
            "Requirement already satisfied: streamlit==1.34.0 in /usr/local/lib/python3.10/dist-packages (from -r requirements.txt (line 56)) (1.34.0)\n",
            "Requirement already satisfied: tenacity==8.2.3 in /usr/local/lib/python3.10/dist-packages (from -r requirements.txt (line 57)) (8.2.3)\n",
            "Requirement already satisfied: threadpoolctl==3.5.0 in /usr/local/lib/python3.10/dist-packages (from -r requirements.txt (line 58)) (3.5.0)\n",
            "Requirement already satisfied: tinysegmenter==0.3 in /usr/local/lib/python3.10/dist-packages (from -r requirements.txt (line 59)) (0.3)\n",
            "Requirement already satisfied: tldextract==5.1.2 in /usr/local/lib/python3.10/dist-packages (from -r requirements.txt (line 60)) (5.1.2)\n",
            "Requirement already satisfied: toml==0.10.2 in /usr/local/lib/python3.10/dist-packages (from -r requirements.txt (line 61)) (0.10.2)\n",
            "Requirement already satisfied: toolz==0.12.1 in /usr/local/lib/python3.10/dist-packages (from -r requirements.txt (line 62)) (0.12.1)\n",
            "Requirement already satisfied: tornado==6.4 in /usr/local/lib/python3.10/dist-packages (from -r requirements.txt (line 63)) (6.4)\n",
            "Requirement already satisfied: tqdm==4.66.4 in /usr/local/lib/python3.10/dist-packages (from -r requirements.txt (line 64)) (4.66.4)\n",
            "Requirement already satisfied: typing_extensions==4.11.0 in /usr/local/lib/python3.10/dist-packages (from -r requirements.txt (line 65)) (4.11.0)\n",
            "Requirement already satisfied: tzdata==2024.1 in /usr/local/lib/python3.10/dist-packages (from -r requirements.txt (line 66)) (2024.1)\n",
            "Requirement already satisfied: urllib3==2.2.1 in /usr/local/lib/python3.10/dist-packages (from -r requirements.txt (line 67)) (2.2.1)\n",
            "Requirement already satisfied: watchdog==4.0.0 in /usr/local/lib/python3.10/dist-packages (from -r requirements.txt (line 68)) (4.0.0)\n",
            "Installing collected packages: scipy, pyarrow, blinker, scikit-learn, pandas, jsonschema, altair\n",
            "  Attempting uninstall: scipy\n",
            "    Found existing installation: scipy 1.11.4\n",
            "    Uninstalling scipy-1.11.4:\n",
            "      Successfully uninstalled scipy-1.11.4\n",
            "  Attempting uninstall: pyarrow\n",
            "    Found existing installation: pyarrow 14.0.2\n",
            "    Uninstalling pyarrow-14.0.2:\n",
            "      Successfully uninstalled pyarrow-14.0.2\n",
            "  Attempting uninstall: blinker\n",
            "    Found existing installation: blinker 1.4\n",
            "\u001b[31mERROR: Cannot uninstall 'blinker'. It is a distutils installed project and thus we cannot accurately determine which files belong to it which would lead to only a partial uninstall.\u001b[0m\u001b[31m\n",
            "\u001b[0m"
          ]
        }
      ],
      "source": [
        "!pip install -r requirements.txt"
      ]
    },
    {
      "cell_type": "code",
      "execution_count": 2,
      "metadata": {
        "colab": {
          "base_uri": "https://localhost:8080/"
        },
        "id": "7ulom3_BYEzb",
        "outputId": "3b2e3c10-dd51-4fac-f551-48a8570d4ab6"
      },
      "outputs": [
        {
          "name": "stdout",
          "output_type": "stream",
          "text": [
            "Requirement already satisfied: streamlit in /usr/local/lib/python3.10/dist-packages (1.34.0)\n",
            "Requirement already satisfied: requests in /usr/local/lib/python3.10/dist-packages (2.31.0)\n",
            "Requirement already satisfied: beautifulsoup4 in /usr/local/lib/python3.10/dist-packages (4.12.3)\n",
            "Requirement already satisfied: newspaper3k in /usr/local/lib/python3.10/dist-packages (0.2.8)\n",
            "Requirement already satisfied: plotly in /usr/local/lib/python3.10/dist-packages (5.22.0)\n",
            "Requirement already satisfied: pandas in /usr/local/lib/python3.10/dist-packages (2.0.3)\n",
            "Requirement already satisfied: reportlab in /usr/local/lib/python3.10/dist-packages (4.2.0)\n",
            "Requirement already satisfied: altair<6,>=4.0 in /usr/local/lib/python3.10/dist-packages (from streamlit) (4.2.2)\n",
            "Requirement already satisfied: blinker<2,>=1.0.0 in /usr/lib/python3/dist-packages (from streamlit) (1.4)\n",
            "Requirement already satisfied: cachetools<6,>=4.0 in /usr/local/lib/python3.10/dist-packages (from streamlit) (5.3.3)\n",
            "Requirement already satisfied: click<9,>=7.0 in /usr/local/lib/python3.10/dist-packages (from streamlit) (8.1.7)\n",
            "Requirement already satisfied: numpy<2,>=1.19.3 in /usr/local/lib/python3.10/dist-packages (from streamlit) (1.26.4)\n",
            "Requirement already satisfied: packaging<25,>=16.8 in /usr/local/lib/python3.10/dist-packages (from streamlit) (24.0)\n",
            "Requirement already satisfied: pillow<11,>=7.1.0 in /usr/local/lib/python3.10/dist-packages (from streamlit) (10.3.0)\n",
            "Requirement already satisfied: protobuf<5,>=3.20 in /usr/local/lib/python3.10/dist-packages (from streamlit) (4.25.3)\n",
            "Requirement already satisfied: pyarrow>=7.0 in /usr/local/lib/python3.10/dist-packages (from streamlit) (16.0.0)\n",
            "Requirement already satisfied: rich<14,>=10.14.0 in /usr/local/lib/python3.10/dist-packages (from streamlit) (13.7.1)\n",
            "Requirement already satisfied: tenacity<9,>=8.1.0 in /usr/local/lib/python3.10/dist-packages (from streamlit) (8.2.3)\n",
            "Requirement already satisfied: toml<2,>=0.10.1 in /usr/local/lib/python3.10/dist-packages (from streamlit) (0.10.2)\n",
            "Requirement already satisfied: typing-extensions<5,>=4.3.0 in /usr/local/lib/python3.10/dist-packages (from streamlit) (4.11.0)\n",
            "Requirement already satisfied: gitpython!=3.1.19,<4,>=3.0.7 in /usr/local/lib/python3.10/dist-packages (from streamlit) (3.1.43)\n",
            "Requirement already satisfied: pydeck<1,>=0.8.0b4 in /usr/local/lib/python3.10/dist-packages (from streamlit) (0.9.0)\n",
            "Requirement already satisfied: tornado<7,>=6.0.3 in /usr/local/lib/python3.10/dist-packages (from streamlit) (6.4)\n",
            "Requirement already satisfied: watchdog>=2.1.5 in /usr/local/lib/python3.10/dist-packages (from streamlit) (4.0.0)\n",
            "Requirement already satisfied: charset-normalizer<4,>=2 in /usr/local/lib/python3.10/dist-packages (from requests) (3.3.2)\n",
            "Requirement already satisfied: idna<4,>=2.5 in /usr/local/lib/python3.10/dist-packages (from requests) (3.7)\n",
            "Requirement already satisfied: urllib3<3,>=1.21.1 in /usr/local/lib/python3.10/dist-packages (from requests) (2.2.1)\n",
            "Requirement already satisfied: certifi>=2017.4.17 in /usr/local/lib/python3.10/dist-packages (from requests) (2024.2.2)\n",
            "Requirement already satisfied: soupsieve>1.2 in /usr/local/lib/python3.10/dist-packages (from beautifulsoup4) (2.5)\n",
            "Requirement already satisfied: PyYAML>=3.11 in /usr/local/lib/python3.10/dist-packages (from newspaper3k) (6.0.1)\n",
            "Requirement already satisfied: cssselect>=0.9.2 in /usr/local/lib/python3.10/dist-packages (from newspaper3k) (1.2.0)\n",
            "Requirement already satisfied: lxml>=3.6.0 in /usr/local/lib/python3.10/dist-packages (from newspaper3k) (5.2.1)\n",
            "Requirement already satisfied: nltk>=3.2.1 in /usr/local/lib/python3.10/dist-packages (from newspaper3k) (3.8.1)\n",
            "Requirement already satisfied: feedparser>=5.2.1 in /usr/local/lib/python3.10/dist-packages (from newspaper3k) (6.0.11)\n",
            "Requirement already satisfied: tldextract>=2.0.1 in /usr/local/lib/python3.10/dist-packages (from newspaper3k) (5.1.2)\n",
            "Requirement already satisfied: feedfinder2>=0.0.4 in /usr/local/lib/python3.10/dist-packages (from newspaper3k) (0.0.4)\n",
            "Requirement already satisfied: jieba3k>=0.35.1 in /usr/local/lib/python3.10/dist-packages (from newspaper3k) (0.35.1)\n",
            "Requirement already satisfied: python-dateutil>=2.5.3 in /usr/local/lib/python3.10/dist-packages (from newspaper3k) (2.9.0.post0)\n",
            "Requirement already satisfied: tinysegmenter==0.3 in /usr/local/lib/python3.10/dist-packages (from newspaper3k) (0.3)\n",
            "Requirement already satisfied: pytz>=2020.1 in /usr/local/lib/python3.10/dist-packages (from pandas) (2024.1)\n",
            "Requirement already satisfied: tzdata>=2022.1 in /usr/local/lib/python3.10/dist-packages (from pandas) (2024.1)\n",
            "Requirement already satisfied: chardet in /usr/local/lib/python3.10/dist-packages (from reportlab) (5.2.0)\n",
            "Requirement already satisfied: entrypoints in /usr/local/lib/python3.10/dist-packages (from altair<6,>=4.0->streamlit) (0.4)\n",
            "Requirement already satisfied: jinja2 in /usr/local/lib/python3.10/dist-packages (from altair<6,>=4.0->streamlit) (3.1.4)\n",
            "Requirement already satisfied: jsonschema>=3.0 in /usr/local/lib/python3.10/dist-packages (from altair<6,>=4.0->streamlit) (4.19.2)\n",
            "Requirement already satisfied: toolz in /usr/local/lib/python3.10/dist-packages (from altair<6,>=4.0->streamlit) (0.12.1)\n",
            "Requirement already satisfied: six in /usr/local/lib/python3.10/dist-packages (from feedfinder2>=0.0.4->newspaper3k) (1.16.0)\n",
            "Requirement already satisfied: sgmllib3k in /usr/local/lib/python3.10/dist-packages (from feedparser>=5.2.1->newspaper3k) (1.0.0)\n",
            "Requirement already satisfied: gitdb<5,>=4.0.1 in /usr/local/lib/python3.10/dist-packages (from gitpython!=3.1.19,<4,>=3.0.7->streamlit) (4.0.11)\n",
            "Requirement already satisfied: joblib in /usr/local/lib/python3.10/dist-packages (from nltk>=3.2.1->newspaper3k) (1.4.2)\n",
            "Requirement already satisfied: regex>=2021.8.3 in /usr/local/lib/python3.10/dist-packages (from nltk>=3.2.1->newspaper3k) (2024.4.28)\n",
            "Requirement already satisfied: tqdm in /usr/local/lib/python3.10/dist-packages (from nltk>=3.2.1->newspaper3k) (4.66.4)\n",
            "Requirement already satisfied: markdown-it-py>=2.2.0 in /usr/local/lib/python3.10/dist-packages (from rich<14,>=10.14.0->streamlit) (3.0.0)\n",
            "Requirement already satisfied: pygments<3.0.0,>=2.13.0 in /usr/local/lib/python3.10/dist-packages (from rich<14,>=10.14.0->streamlit) (2.18.0)\n",
            "Requirement already satisfied: requests-file>=1.4 in /usr/local/lib/python3.10/dist-packages (from tldextract>=2.0.1->newspaper3k) (2.0.0)\n",
            "Requirement already satisfied: filelock>=3.0.8 in /usr/local/lib/python3.10/dist-packages (from tldextract>=2.0.1->newspaper3k) (3.14.0)\n",
            "Requirement already satisfied: smmap<6,>=3.0.1 in /usr/local/lib/python3.10/dist-packages (from gitdb<5,>=4.0.1->gitpython!=3.1.19,<4,>=3.0.7->streamlit) (5.0.1)\n",
            "Requirement already satisfied: MarkupSafe>=2.0 in /usr/local/lib/python3.10/dist-packages (from jinja2->altair<6,>=4.0->streamlit) (2.1.5)\n",
            "Requirement already satisfied: attrs>=22.2.0 in /usr/local/lib/python3.10/dist-packages (from jsonschema>=3.0->altair<6,>=4.0->streamlit) (23.2.0)\n",
            "Requirement already satisfied: jsonschema-specifications>=2023.03.6 in /usr/local/lib/python3.10/dist-packages (from jsonschema>=3.0->altair<6,>=4.0->streamlit) (2023.12.1)\n",
            "Requirement already satisfied: referencing>=0.28.4 in /usr/local/lib/python3.10/dist-packages (from jsonschema>=3.0->altair<6,>=4.0->streamlit) (0.35.1)\n",
            "Requirement already satisfied: rpds-py>=0.7.1 in /usr/local/lib/python3.10/dist-packages (from jsonschema>=3.0->altair<6,>=4.0->streamlit) (0.18.0)\n",
            "Requirement already satisfied: mdurl~=0.1 in /usr/local/lib/python3.10/dist-packages (from markdown-it-py>=2.2.0->rich<14,>=10.14.0->streamlit) (0.1.2)\n"
          ]
        }
      ],
      "source": [
        "!pip install streamlit requests beautifulsoup4 newspaper3k plotly pandas reportlab"
      ]
    },
    {
      "cell_type": "code",
      "execution_count": 3,
      "metadata": {
        "colab": {
          "base_uri": "https://localhost:8080/"
        },
        "id": "wU8LimzOFBxl",
        "outputId": "1009966f-8a45-42b0-9073-42c129ad29f6"
      },
      "outputs": [
        {
          "name": "stdout",
          "output_type": "stream",
          "text": [
            "Requirement already satisfied: dostoevsky in /usr/local/lib/python3.10/dist-packages (0.6.0)\n",
            "Requirement already satisfied: fasttext==0.9.2 in /usr/local/lib/python3.10/dist-packages (from dostoevsky) (0.9.2)\n",
            "Requirement already satisfied: razdel==0.5.0 in /usr/local/lib/python3.10/dist-packages (from dostoevsky) (0.5.0)\n",
            "Requirement already satisfied: pybind11>=2.2 in /usr/local/lib/python3.10/dist-packages (from fasttext==0.9.2->dostoevsky) (2.12.0)\n",
            "Requirement already satisfied: setuptools>=0.7.0 in /usr/local/lib/python3.10/dist-packages (from fasttext==0.9.2->dostoevsky) (67.7.2)\n",
            "Requirement already satisfied: numpy in /usr/local/lib/python3.10/dist-packages (from fasttext==0.9.2->dostoevsky) (1.26.4)\n"
          ]
        }
      ],
      "source": [
        "!pip install dostoevsky"
      ]
    },
    {
      "cell_type": "code",
      "execution_count": 4,
      "metadata": {
        "colab": {
          "base_uri": "https://localhost:8080/"
        },
        "id": "63KzXhdRFFl0",
        "outputId": "f3426923-972c-4da2-989c-2d2465e4fe0d"
      },
      "outputs": [
        {
          "data": {
            "text/plain": [
              "CompletedProcess(args='python -m dostoevsky download fasttext-social-network-model', returncode=0)"
            ]
          },
          "execution_count": 4,
          "metadata": {},
          "output_type": "execute_result"
        }
      ],
      "source": [
        "import subprocess\n",
        "\n",
        "command = \"python -m dostoevsky download fasttext-social-network-model\"\n",
        "subprocess.run(command, shell=True)"
      ]
    },
    {
      "cell_type": "code",
      "execution_count": 5,
      "metadata": {
        "colab": {
          "base_uri": "https://localhost:8080/"
        },
        "id": "nzMjCyskYXpZ",
        "outputId": "53349205-8a3d-4c08-8462-c7409c609822"
      },
      "outputs": [
        {
          "name": "stdout",
          "output_type": "stream",
          "text": [
            "Requirement already satisfied: lxml[html_clean] in /usr/local/lib/python3.10/dist-packages (5.2.1)\n",
            "Requirement already satisfied: lxml-html-clean in /usr/local/lib/python3.10/dist-packages (from lxml[html_clean]) (0.1.1)\n"
          ]
        }
      ],
      "source": [
        "!pip install \"lxml[html_clean]\"\n"
      ]
    },
    {
      "cell_type": "code",
      "execution_count": 6,
      "metadata": {
        "colab": {
          "base_uri": "https://localhost:8080/"
        },
        "id": "q-Z3Qu4DZH-N",
        "outputId": "90494884-4e59-40cc-ca7f-7cd00f10ebaf"
      },
      "outputs": [
        {
          "name": "stdout",
          "output_type": "stream",
          "text": [
            "Requirement already satisfied: lxml_html_clean in /usr/local/lib/python3.10/dist-packages (0.1.1)\n",
            "Requirement already satisfied: lxml in /usr/local/lib/python3.10/dist-packages (from lxml_html_clean) (5.2.1)\n"
          ]
        }
      ],
      "source": [
        "!pip install lxml_html_clean"
      ]
    },
    {
      "cell_type": "markdown",
      "metadata": {
        "id": "jFlsxko6dxk9"
      },
      "source": [
        "## **tunnel**"
      ]
    },
    {
      "cell_type": "code",
      "execution_count": 7,
      "metadata": {
        "colab": {
          "base_uri": "https://localhost:8080/"
        },
        "id": "R_CFJvCNiW3E",
        "outputId": "372a8bbf-ad4e-40b3-dc62-d78c8014a9ce"
      },
      "outputs": [
        {
          "name": "stdout",
          "output_type": "stream",
          "text": [
            "35.190.186.85\n"
          ]
        }
      ],
      "source": [
        "!wget -q -O - ipv4 icanhazip.com"
      ]
    },
    {
      "cell_type": "code",
      "execution_count": 9,
      "metadata": {
        "colab": {
          "base_uri": "https://localhost:8080/"
        },
        "id": "O8z6nXLsihql",
        "outputId": "e02302f7-cc35-4c0c-a9cd-b0c758486277"
      },
      "outputs": [
        {
          "name": "stdout",
          "output_type": "stream",
          "text": [
            "\n",
            "Collecting usage statistics. To deactivate, set browser.gatherUsageStats to false.\n",
            "\u001b[0m\n",
            "\u001b[0m\n",
            "\u001b[34m\u001b[1m  You can now view your Streamlit app in your browser.\u001b[0m\n",
            "\u001b[0m\n",
            "\u001b[34m  Network URL: \u001b[0m\u001b[1mhttp://172.28.0.12:8501\u001b[0m\n",
            "\u001b[34m  External URL: \u001b[0m\u001b[1mhttp://35.190.186.85:8501\u001b[0m\n",
            "\u001b[0m\n",
            "\u001b[K\u001b[?25hnpx: installed 22 in 4.861s\n",
            "your url is: https://real-snakes-hear.loca.lt\n",
            "Warning : `load_model` does not return WordVectorModel or SupervisedModel any more, but a `FastText` object which is very similar.\n",
            "Warning : `load_model` does not return WordVectorModel or SupervisedModel any more, but a `FastText` object which is very similar.\n",
            "Warning : `load_model` does not return WordVectorModel or SupervisedModel any more, but a `FastText` object which is very similar.\n",
            "Warning : `load_model` does not return WordVectorModel or SupervisedModel any more, but a `FastText` object which is very similar.\n",
            "Warning : `load_model` does not return WordVectorModel or SupervisedModel any more, but a `FastText` object which is very similar.\n",
            "Warning : `load_model` does not return WordVectorModel or SupervisedModel any more, but a `FastText` object which is very similar.\n",
            "2024-05-08 13:16:48.874 Uncaught app exception\n",
            "Traceback (most recent call last):\n",
            "  File \"/usr/local/lib/python3.10/dist-packages/streamlit/runtime/scriptrunner/script_runner.py\", line 600, in _run_script\n",
            "    exec(code, module.__dict__)\n",
            "  File \"/content/app.py\", line 302, in <module>\n",
            "    df = display_sentiment_analysis()\n",
            "  File \"/content/app.py\", line 48, in display_sentiment_analysis\n",
            "    perform_sentiment_analysis(article[1])\n",
            "  File \"/content/app.py\", line 116, in perform_sentiment_analysis\n",
            "    st.write(prediction['neutral'])\n",
            "TypeError: list indices must be integers or slices, not str\n",
            "Warning : `load_model` does not return WordVectorModel or SupervisedModel any more, but a `FastText` object which is very similar.\n",
            "Warning : `load_model` does not return WordVectorModel or SupervisedModel any more, but a `FastText` object which is very similar.\n",
            "Warning : `load_model` does not return WordVectorModel or SupervisedModel any more, but a `FastText` object which is very similar.\n",
            "Warning : `load_model` does not return WordVectorModel or SupervisedModel any more, but a `FastText` object which is very similar.\n",
            "2024-05-08 13:24:11.907 Uncaught app exception\n",
            "Traceback (most recent call last):\n",
            "  File \"/usr/local/lib/python3.10/dist-packages/streamlit/runtime/scriptrunner/script_runner.py\", line 600, in _run_script\n",
            "    exec(code, module.__dict__)\n",
            "  File \"/content/app.py\", line 308, in <module>\n",
            "    df = display_sentiment_analysis()\n",
            "  File \"/content/app.py\", line 49, in display_sentiment_analysis\n",
            "    perform_sentiment_analysis(article[1])\n",
            "  File \"/content/app.py\", line 121, in perform_sentiment_analysis\n",
            "    resultsDict['negative'] += prediction[0]['negative']\n",
            "KeyError: 'negative'\n",
            "Warning : `load_model` does not return WordVectorModel or SupervisedModel any more, but a `FastText` object which is very similar.\n",
            "Warning : `load_model` does not return WordVectorModel or SupervisedModel any more, but a `FastText` object which is very similar.\n",
            "2024-05-08 13:26:47.175 Uncaught app exception\n",
            "Traceback (most recent call last):\n",
            "  File \"/usr/local/lib/python3.10/dist-packages/streamlit/runtime/scriptrunner/script_runner.py\", line 600, in _run_script\n",
            "    exec(code, module.__dict__)\n",
            "  File \"/content/app.py\", line 308, in <module>\n",
            "    df = display_sentiment_analysis()\n",
            "  File \"/content/app.py\", line 49, in display_sentiment_analysis\n",
            "    perform_sentiment_analysis(article[1])\n",
            "  File \"/content/app.py\", line 123, in perform_sentiment_analysis\n",
            "    resultsDict['sppech'] += prediction[0]['speech']\n",
            "KeyError: 'sppech'\n",
            "Warning : `load_model` does not return WordVectorModel or SupervisedModel any more, but a `FastText` object which is very similar.\n",
            "Warning : `load_model` does not return WordVectorModel or SupervisedModel any more, but a `FastText` object which is very similar.\n",
            "Warning : `load_model` does not return WordVectorModel or SupervisedModel any more, but a `FastText` object which is very similar.\n",
            "Warning : `load_model` does not return WordVectorModel or SupervisedModel any more, but a `FastText` object which is very similar.\n",
            "Warning : `load_model` does not return WordVectorModel or SupervisedModel any more, but a `FastText` object which is very similar.\n",
            "Warning : `load_model` does not return WordVectorModel or SupervisedModel any more, but a `FastText` object which is very similar.\n",
            "Warning : `load_model` does not return WordVectorModel or SupervisedModel any more, but a `FastText` object which is very similar.\n",
            "Warning : `load_model` does not return WordVectorModel or SupervisedModel any more, but a `FastText` object which is very similar.\n",
            "The last page number is: 2\n",
            "Warning : `load_model` does not return WordVectorModel or SupervisedModel any more, but a `FastText` object which is very similar.\n",
            "Warning : `load_model` does not return WordVectorModel or SupervisedModel any more, but a `FastText` object which is very similar.\n",
            "The last page number is: 2\n",
            "Warning : `load_model` does not return WordVectorModel or SupervisedModel any more, but a `FastText` object which is very similar.\n",
            "Warning : `load_model` does not return WordVectorModel or SupervisedModel any more, but a `FastText` object which is very similar.\n",
            "Warning : `load_model` does not return WordVectorModel or SupervisedModel any more, but a `FastText` object which is very similar.\n",
            "Warning : `load_model` does not return WordVectorModel or SupervisedModel any more, but a `FastText` object which is very similar.\n",
            "Warning : `load_model` does not return WordVectorModel or SupervisedModel any more, but a `FastText` object which is very similar.\n",
            "Warning : `load_model` does not return WordVectorModel or SupervisedModel any more, but a `FastText` object which is very similar.\n",
            "The last page number is: 2\n",
            "Warning : `load_model` does not return WordVectorModel or SupervisedModel any more, but a `FastText` object which is very similar.\n",
            "Warning : `load_model` does not return WordVectorModel or SupervisedModel any more, but a `FastText` object which is very similar.\n",
            "Warning : `load_model` does not return WordVectorModel or SupervisedModel any more, but a `FastText` object which is very similar.\n",
            "Warning : `load_model` does not return WordVectorModel or SupervisedModel any more, but a `FastText` object which is very similar.\n",
            "Warning : `load_model` does not return WordVectorModel or SupervisedModel any more, but a `FastText` object which is very similar.\n",
            "Warning : `load_model` does not return WordVectorModel or SupervisedModel any more, but a `FastText` object which is very similar.\n",
            "Warning : `load_model` does not return WordVectorModel or SupervisedModel any more, but a `FastText` object which is very similar.\n",
            "Warning : `load_model` does not return WordVectorModel or SupervisedModel any more, but a `FastText` object which is very similar.\n",
            "\u001b[34m  Stopping...\u001b[0m\n",
            "^C\n"
          ]
        }
      ],
      "source": [
        "!streamlit run app_colab.py & npx localtunnel --port 8501"
      ]
    },
    {
      "cell_type": "code",
      "execution_count": null,
      "metadata": {
        "id": "NFYbdKO9PZW2"
      },
      "outputs": [],
      "source": []
    }
  ],
  "metadata": {
    "colab": {
      "provenance": []
    },
    "kernelspec": {
      "display_name": "Python 3",
      "name": "python3"
    },
    "language_info": {
      "name": "python"
    }
  },
  "nbformat": 4,
  "nbformat_minor": 0
}
