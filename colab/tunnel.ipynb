{
  "cells": [
    {
      "cell_type": "markdown",
      "metadata": {
        "id": "plW90O64dgn_"
      },
      "source": [
        "##**requirements.txt**"
      ]
    },
    {
      "cell_type": "code",
      "execution_count": null,
      "metadata": {
        "colab": {
          "base_uri": "https://localhost:8080/"
        },
        "id": "_xDD5MRqW5DG",
        "outputId": "c2ddb131-38ef-450c-8759-acf969dabad4"
      },
      "outputs": [],
      "source": [
        "!pip install -r requirements.txt"
      ]
    },
    {
      "cell_type": "code",
      "execution_count": null,
      "metadata": {
        "colab": {
          "base_uri": "https://localhost:8080/"
        },
        "id": "7ulom3_BYEzb",
        "outputId": "3b2e3c10-dd51-4fac-f551-48a8570d4ab6"
      },
      "outputs": [],
      "source": [
        "!pip install streamlit requests beautifulsoup4 newspaper3k plotly pandas reportlab"
      ]
    },
    {
      "cell_type": "code",
      "execution_count": null,
      "metadata": {
        "colab": {
          "base_uri": "https://localhost:8080/"
        },
        "id": "wU8LimzOFBxl",
        "outputId": "1009966f-8a45-42b0-9073-42c129ad29f6"
      },
      "outputs": [],
      "source": [
        "!pip install dostoevsky"
      ]
    },
    {
      "cell_type": "code",
      "execution_count": null,
      "metadata": {
        "colab": {
          "base_uri": "https://localhost:8080/"
        },
        "id": "63KzXhdRFFl0",
        "outputId": "f3426923-972c-4da2-989c-2d2465e4fe0d"
      },
      "outputs": [],
      "source": [
        "import subprocess\n",
        "\n",
        "command = \"python -m dostoevsky download fasttext-social-network-model\"\n",
        "subprocess.run(command, shell=True)"
      ]
    },
    {
      "cell_type": "code",
      "execution_count": null,
      "metadata": {
        "colab": {
          "base_uri": "https://localhost:8080/"
        },
        "id": "nzMjCyskYXpZ",
        "outputId": "53349205-8a3d-4c08-8462-c7409c609822"
      },
      "outputs": [],
      "source": [
        "!pip install \"lxml[html_clean]\"\n"
      ]
    },
    {
      "cell_type": "code",
      "execution_count": null,
      "metadata": {
        "colab": {
          "base_uri": "https://localhost:8080/"
        },
        "id": "q-Z3Qu4DZH-N",
        "outputId": "90494884-4e59-40cc-ca7f-7cd00f10ebaf"
      },
      "outputs": [],
      "source": [
        "!pip install lxml_html_clean"
      ]
    },
    {
      "cell_type": "markdown",
      "metadata": {
        "id": "jFlsxko6dxk9"
      },
      "source": [
        "## **tunnel**"
      ]
    },
    {
      "cell_type": "code",
      "execution_count": null,
      "metadata": {
        "colab": {
          "base_uri": "https://localhost:8080/"
        },
        "id": "R_CFJvCNiW3E",
        "outputId": "372a8bbf-ad4e-40b3-dc62-d78c8014a9ce"
      },
      "outputs": [],
      "source": [
        "!wget -q -O - ipv4 icanhazip.com"
      ]
    },
    {
      "cell_type": "code",
      "execution_count": null,
      "metadata": {
        "colab": {
          "base_uri": "https://localhost:8080/"
        },
        "id": "O8z6nXLsihql",
        "outputId": "e02302f7-cc35-4c0c-a9cd-b0c758486277"
      },
      "outputs": [],
      "source": [
        "!streamlit run app_colab.py & npx localtunnel --port 8501"
      ]
    }
  ],
  "metadata": {
    "colab": {
      "provenance": []
    },
    "kernelspec": {
      "display_name": "Python 3",
      "name": "python3"
    },
    "language_info": {
      "name": "python"
    }
  },
  "nbformat": 4,
  "nbformat_minor": 0
}
